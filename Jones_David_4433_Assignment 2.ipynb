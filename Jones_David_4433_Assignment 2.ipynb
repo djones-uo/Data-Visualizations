{
 "cells": [
  {
   "cell_type": "code",
   "execution_count": 52,
   "id": "68ff85cf",
   "metadata": {},
   "outputs": [],
   "source": [
    "import pandas as pd\n",
    "import numpy as np\n",
    "import yfinance as yf\n",
    "import matplotlib.pyplot as plt\n",
    "%matplotlib inline"
   ]
  },
  {
   "cell_type": "markdown",
   "id": "678379bc",
   "metadata": {},
   "source": [
    "### Assignment 2, Part 1: \n",
    "\n",
    "Create a list of the atomic weights of the first six elements of the periodic table, each rounded to the nearest integer. \n",
    "\n",
    "Provide two pie charts as follows: \n",
    "    (1) each slice annotated with a percentage of the whole and \n",
    "    (2) each slice annotated with its atomic weight. Explode a different element with each chart."
   ]
  },
  {
   "cell_type": "code",
   "execution_count": 5,
   "id": "84aa248f",
   "metadata": {},
   "outputs": [
    {
     "data": {
      "image/png": "[encoded data removed]",
      "text/plain": [
       "<Figure size 432x288 with 1 Axes>"
      ]
     },
     "metadata": {},
     "output_type": "display_data"
    }
   ],
   "source": [
    "#Pie chart annotabe by a percentage of the whole and one element being 'exploded' out from the chart\n",
    "aWeights = [1, 4, 7, 9, 11, 12]\n",
    "\n",
    "aPercent = [round(1/44, 2), round(4/44, 2), round(7/44, 2), round(9/44, 2), round(11/44, 2), round(12/44, 2)]\n",
    "PercentExplode = [0, 0, 0, 0.2, 0, 0]\n",
    "\n",
    "plt.pie(aWeights, labels = aPercent, explode = PercentExplode)\n",
    "plt.show() "
   ]
  },
  {
   "cell_type": "code",
   "execution_count": 6,
   "id": "5122db5d",
   "metadata": {},
   "outputs": [
    {
     "data": {
      "image/png": "[encoded data removed]",
      "text/plain": [
       "<Figure size 432x288 with 1 Axes>"
      ]
     },
     "metadata": {},
     "output_type": "display_data"
    }
   ],
   "source": [
    "#Pie chart annotated by atomic weight and a different element being 'exploded' out from the chart\n",
    "aWeights = [1, 4, 7, 9, 11, 12]\n",
    "\n",
    "PercentExplode2 = [0, 0, 0.2, 0, 0, 0]\n",
    "\n",
    "plt.pie(aWeights, labels = aWeights, explode = PercentExplode2)\n",
    "plt.show() "
   ]
  },
  {
   "cell_type": "markdown",
   "id": "4c619885",
   "metadata": {},
   "source": [
    "### Assignment 2, Part 2: \n",
    "\n",
    "Read into a DataFrame the file py_ide2.csv, and provide both a horizontal bar chart and a vertical bar chart, complete with all labels. Be sure to rotate the IDE names so that they are readable."
   ]
  },
  {
   "cell_type": "code",
   "execution_count": 8,
   "id": "c4c9d3ec",
   "metadata": {},
   "outputs": [
    {
     "data": {
      "text/html": [
       "<div>\n",
       "<style scoped>\n",
       "    .dataframe tbody tr th:only-of-type {\n",
       "        vertical-align: middle;\n",
       "    }\n",
       "\n",
       "    .dataframe tbody tr th {\n",
       "        vertical-align: top;\n",
       "    }\n",
       "\n",
       "    .dataframe thead th {\n",
       "        text-align: right;\n",
       "    }\n",
       "</style>\n",
       "<table border=\"1\" class=\"dataframe\">\n",
       "  <thead>\n",
       "    <tr style=\"text-align: right;\">\n",
       "      <th></th>\n",
       "      <th>IDE</th>\n",
       "      <th>Adoption</th>\n",
       "    </tr>\n",
       "  </thead>\n",
       "  <tbody>\n",
       "    <tr>\n",
       "      <th>0</th>\n",
       "      <td>Jupyter</td>\n",
       "      <td>57.0</td>\n",
       "    </tr>\n",
       "    <tr>\n",
       "      <th>1</th>\n",
       "      <td>PyCharm</td>\n",
       "      <td>35.0</td>\n",
       "    </tr>\n",
       "    <tr>\n",
       "      <th>2</th>\n",
       "      <td>Spyder</td>\n",
       "      <td>27.0</td>\n",
       "    </tr>\n",
       "    <tr>\n",
       "      <th>3</th>\n",
       "      <td>VS Code</td>\n",
       "      <td>21.0</td>\n",
       "    </tr>\n",
       "    <tr>\n",
       "      <th>4</th>\n",
       "      <td>Sublime Text</td>\n",
       "      <td>12.0</td>\n",
       "    </tr>\n",
       "    <tr>\n",
       "      <th>5</th>\n",
       "      <td>Atom</td>\n",
       "      <td>10.0</td>\n",
       "    </tr>\n",
       "    <tr>\n",
       "      <th>6</th>\n",
       "      <td>Vim</td>\n",
       "      <td>8.5</td>\n",
       "    </tr>\n",
       "    <tr>\n",
       "      <th>7</th>\n",
       "      <td>another IDE</td>\n",
       "      <td>3.1</td>\n",
       "    </tr>\n",
       "    <tr>\n",
       "      <th>8</th>\n",
       "      <td>Eclipse</td>\n",
       "      <td>3.0</td>\n",
       "    </tr>\n",
       "    <tr>\n",
       "      <th>9</th>\n",
       "      <td>another ed</td>\n",
       "      <td>2.5</td>\n",
       "    </tr>\n",
       "    <tr>\n",
       "      <th>10</th>\n",
       "      <td>Emacs</td>\n",
       "      <td>2.2</td>\n",
       "    </tr>\n",
       "    <tr>\n",
       "      <th>11</th>\n",
       "      <td>gedit</td>\n",
       "      <td>1.3</td>\n",
       "    </tr>\n",
       "    <tr>\n",
       "      <th>12</th>\n",
       "      <td>Rodeo</td>\n",
       "      <td>1.2</td>\n",
       "    </tr>\n",
       "  </tbody>\n",
       "</table>\n",
       "</div>"
      ],
      "text/plain": [
       "             IDE  Adoption\n",
       "0        Jupyter      57.0\n",
       "1        PyCharm      35.0\n",
       "2         Spyder      27.0\n",
       "3        VS Code      21.0\n",
       "4   Sublime Text      12.0\n",
       "5           Atom      10.0\n",
       "6            Vim       8.5\n",
       "7    another IDE       3.1\n",
       "8        Eclipse       3.0\n",
       "9     another ed       2.5\n",
       "10         Emacs       2.2\n",
       "11         gedit       1.3\n",
       "12         Rodeo       1.2"
      ]
     },
     "execution_count": 8,
     "metadata": {},
     "output_type": "execute_result"
    }
   ],
   "source": [
    "part2DF = pd.read_csv('py_ide2.csv')\n",
    "part2DF"
   ]
  },
  {
   "cell_type": "code",
   "execution_count": 15,
   "id": "5052d0ba",
   "metadata": {},
   "outputs": [
    {
     "data": {
      "text/plain": [
       "<AxesSubplot:ylabel='IDE'>"
      ]
     },
     "execution_count": 15,
     "metadata": {},
     "output_type": "execute_result"
    },
    {
     "data": {
      "image/png": "[encoded data removed]",
      "text/plain": [
       "<Figure size 432x288 with 1 Axes>"
      ]
     },
     "metadata": {
      "needs_background": "light"
     },
     "output_type": "display_data"
    }
   ],
   "source": [
    "# horizontal bar chart\n",
    "part2DF.plot.barh(x='IDE', y='Adoption')"
   ]
  },
  {
   "cell_type": "code",
   "execution_count": 16,
   "id": "b9a2ae00",
   "metadata": {},
   "outputs": [
    {
     "data": {
      "text/plain": [
       "<AxesSubplot:xlabel='IDE'>"
      ]
     },
     "execution_count": 16,
     "metadata": {},
     "output_type": "execute_result"
    },
    {
     "data": {
      "image/png": "[encoded data removed]",
      "text/plain": [
       "<Figure size 432x288 with 1 Axes>"
      ]
     },
     "metadata": {
      "needs_background": "light"
     },
     "output_type": "display_data"
    }
   ],
   "source": [
    "# vertical bar chart\n",
    "part2DF.plot.bar(x='IDE', y='Adoption')"
   ]
  },
  {
   "cell_type": "markdown",
   "id": "7d8558dc",
   "metadata": {},
   "source": [
    "### Assignment 2, Part 3: \n",
    "\n",
    "Construct a list of eight strings that represent days evenly spread out. Drawing from the random uniform distribution, make an array of eight floats ranging from 100 to 200 in value. Establish a DataFrame from that list and that array, convert the dates to pandas datetime objects, and set them to the index. Make two charts in the same window or canvas as follows: (1) a line plot of the values vs. dates and (2) a bar chart of the same."
   ]
  },
  {
   "cell_type": "code",
   "execution_count": 18,
   "id": "3d027813",
   "metadata": {},
   "outputs": [
    {
     "data": {
      "text/html": [
       "<div>\n",
       "<style scoped>\n",
       "    .dataframe tbody tr th:only-of-type {\n",
       "        vertical-align: middle;\n",
       "    }\n",
       "\n",
       "    .dataframe tbody tr th {\n",
       "        vertical-align: top;\n",
       "    }\n",
       "\n",
       "    .dataframe thead th {\n",
       "        text-align: right;\n",
       "    }\n",
       "</style>\n",
       "<table border=\"1\" class=\"dataframe\">\n",
       "  <thead>\n",
       "    <tr style=\"text-align: right;\">\n",
       "      <th></th>\n",
       "      <th>Dates</th>\n",
       "      <th>Values</th>\n",
       "    </tr>\n",
       "  </thead>\n",
       "  <tbody>\n",
       "    <tr>\n",
       "      <th>0</th>\n",
       "      <td>2022-01-01</td>\n",
       "      <td>197.494140</td>\n",
       "    </tr>\n",
       "    <tr>\n",
       "      <th>1</th>\n",
       "      <td>2022-02-15</td>\n",
       "      <td>199.062395</td>\n",
       "    </tr>\n",
       "    <tr>\n",
       "      <th>2</th>\n",
       "      <td>2022-04-01</td>\n",
       "      <td>104.699805</td>\n",
       "    </tr>\n",
       "    <tr>\n",
       "      <th>3</th>\n",
       "      <td>2022-05-16</td>\n",
       "      <td>120.731461</td>\n",
       "    </tr>\n",
       "    <tr>\n",
       "      <th>4</th>\n",
       "      <td>2022-07-01</td>\n",
       "      <td>122.562617</td>\n",
       "    </tr>\n",
       "    <tr>\n",
       "      <th>5</th>\n",
       "      <td>2022-08-15</td>\n",
       "      <td>141.686305</td>\n",
       "    </tr>\n",
       "    <tr>\n",
       "      <th>6</th>\n",
       "      <td>2022-09-29</td>\n",
       "      <td>142.261627</td>\n",
       "    </tr>\n",
       "    <tr>\n",
       "      <th>7</th>\n",
       "      <td>2022-11-16</td>\n",
       "      <td>161.152102</td>\n",
       "    </tr>\n",
       "  </tbody>\n",
       "</table>\n",
       "</div>"
      ],
      "text/plain": [
       "        Dates      Values\n",
       "0  2022-01-01  197.494140\n",
       "1  2022-02-15  199.062395\n",
       "2  2022-04-01  104.699805\n",
       "3  2022-05-16  120.731461\n",
       "4  2022-07-01  122.562617\n",
       "5  2022-08-15  141.686305\n",
       "6  2022-09-29  142.261627\n",
       "7  2022-11-16  161.152102"
      ]
     },
     "execution_count": 18,
     "metadata": {},
     "output_type": "execute_result"
    }
   ],
   "source": [
    "#establish random values, dates, and dataframe\n",
    "rU = np.random.uniform(100,200,8)\n",
    "dates = ['2022-01-01', '2022-02-15', '2022-04-01', '2022-05-16', '2022-07-01', '2022-08-15', '2022-09-29', '2022-11-16']\n",
    "\n",
    "honk = pd.DataFrame({'Dates': dates,\n",
    "                    'Values': rU})\n",
    "\n",
    "honk"
   ]
  },
  {
   "cell_type": "code",
   "execution_count": 19,
   "id": "138070aa",
   "metadata": {},
   "outputs": [
    {
     "data": {
      "text/plain": [
       "Dates      object\n",
       "Values    float64\n",
       "dtype: object"
      ]
     },
     "execution_count": 19,
     "metadata": {},
     "output_type": "execute_result"
    }
   ],
   "source": [
    "#verify data types\n",
    "honk.dtypes"
   ]
  },
  {
   "cell_type": "code",
   "execution_count": 21,
   "id": "3b901fca",
   "metadata": {},
   "outputs": [
    {
     "data": {
      "text/html": [
       "<div>\n",
       "<style scoped>\n",
       "    .dataframe tbody tr th:only-of-type {\n",
       "        vertical-align: middle;\n",
       "    }\n",
       "\n",
       "    .dataframe tbody tr th {\n",
       "        vertical-align: top;\n",
       "    }\n",
       "\n",
       "    .dataframe thead th {\n",
       "        text-align: right;\n",
       "    }\n",
       "</style>\n",
       "<table border=\"1\" class=\"dataframe\">\n",
       "  <thead>\n",
       "    <tr style=\"text-align: right;\">\n",
       "      <th></th>\n",
       "      <th>Values</th>\n",
       "    </tr>\n",
       "    <tr>\n",
       "      <th>Dates</th>\n",
       "      <th></th>\n",
       "    </tr>\n",
       "  </thead>\n",
       "  <tbody>\n",
       "    <tr>\n",
       "      <th>2022-01-01</th>\n",
       "      <td>197.494140</td>\n",
       "    </tr>\n",
       "    <tr>\n",
       "      <th>2022-02-15</th>\n",
       "      <td>199.062395</td>\n",
       "    </tr>\n",
       "    <tr>\n",
       "      <th>2022-04-01</th>\n",
       "      <td>104.699805</td>\n",
       "    </tr>\n",
       "    <tr>\n",
       "      <th>2022-05-16</th>\n",
       "      <td>120.731461</td>\n",
       "    </tr>\n",
       "    <tr>\n",
       "      <th>2022-07-01</th>\n",
       "      <td>122.562617</td>\n",
       "    </tr>\n",
       "    <tr>\n",
       "      <th>2022-08-15</th>\n",
       "      <td>141.686305</td>\n",
       "    </tr>\n",
       "    <tr>\n",
       "      <th>2022-09-29</th>\n",
       "      <td>142.261627</td>\n",
       "    </tr>\n",
       "    <tr>\n",
       "      <th>2022-11-16</th>\n",
       "      <td>161.152102</td>\n",
       "    </tr>\n",
       "  </tbody>\n",
       "</table>\n",
       "</div>"
      ],
      "text/plain": [
       "                Values\n",
       "Dates                 \n",
       "2022-01-01  197.494140\n",
       "2022-02-15  199.062395\n",
       "2022-04-01  104.699805\n",
       "2022-05-16  120.731461\n",
       "2022-07-01  122.562617\n",
       "2022-08-15  141.686305\n",
       "2022-09-29  142.261627\n",
       "2022-11-16  161.152102"
      ]
     },
     "execution_count": 21,
     "metadata": {},
     "output_type": "execute_result"
    }
   ],
   "source": [
    "#convert dates to datetime object and set them to index\n",
    "honk['Dates']= pd.to_datetime(honk['Dates'])\n",
    "honk2 = honk.set_index('Dates')\n",
    "\n",
    "honk2"
   ]
  },
  {
   "cell_type": "code",
   "execution_count": 65,
   "id": "33e70f57",
   "metadata": {},
   "outputs": [
    {
     "data": {
      "image/png": "[encoded data removed]",
      "text/plain": [
       "<Figure size 576x432 with 2 Axes>"
      ]
     },
     "metadata": {
      "needs_background": "light"
     },
     "output_type": "display_data"
    }
   ],
   "source": [
    "fig, axs = plt.subplots(nrows=2, ncols=1, figsize=(8, 6), sharex=True)\n",
    "\n",
    "#line graph\n",
    "axs[0].plot(honk2.index, honk2['Values'], color='blue')\n",
    "axs[0].set_title('Line Chart')\n",
    "\n",
    "#bar chart\n",
    "axs[1].bar(honk2.index, honk2['Values'], color='green', width = 3)\n",
    "axs[1].set_title('Bar Chart')\n",
    "\n",
    "#x label\n",
    "plt.xlabel('Dates')\n",
    "\n",
    "plt.xticks(rotation=90)\n",
    "\n",
    "plt.show()"
   ]
  },
  {
   "cell_type": "markdown",
   "id": "6496d985",
   "metadata": {},
   "source": [
    "### Assignment 2, Part 4: \n",
    "\n",
    "Pull from Yahoo! Finance the closing prices and volumes of the stock of your choice over the trading days of one month, and plot the prices and volumes on a canvas in two separate panels, one above the other, with the dates aligned."
   ]
  },
  {
   "cell_type": "code",
   "execution_count": 53,
   "id": "e335ff36",
   "metadata": {},
   "outputs": [
    {
     "name": "stdout",
     "output_type": "stream",
     "text": [
      "[*********************100%***********************]  1 of 1 completed\n"
     ]
    }
   ],
   "source": [
    "stock = yf.download('OKTA', \"2023-03-01\", \"2023-03-31\")"
   ]
  },
  {
   "cell_type": "code",
   "execution_count": 54,
   "id": "751980c1",
   "metadata": {},
   "outputs": [
    {
     "data": {
      "text/html": [
       "<div>\n",
       "<style scoped>\n",
       "    .dataframe tbody tr th:only-of-type {\n",
       "        vertical-align: middle;\n",
       "    }\n",
       "\n",
       "    .dataframe tbody tr th {\n",
       "        vertical-align: top;\n",
       "    }\n",
       "\n",
       "    .dataframe thead th {\n",
       "        text-align: right;\n",
       "    }\n",
       "</style>\n",
       "<table border=\"1\" class=\"dataframe\">\n",
       "  <thead>\n",
       "    <tr style=\"text-align: right;\">\n",
       "      <th></th>\n",
       "      <th>Open</th>\n",
       "      <th>High</th>\n",
       "      <th>Low</th>\n",
       "      <th>Close</th>\n",
       "      <th>Adj Close</th>\n",
       "      <th>Volume</th>\n",
       "    </tr>\n",
       "    <tr>\n",
       "      <th>Date</th>\n",
       "      <th></th>\n",
       "      <th></th>\n",
       "      <th></th>\n",
       "      <th></th>\n",
       "      <th></th>\n",
       "      <th></th>\n",
       "    </tr>\n",
       "  </thead>\n",
       "  <tbody>\n",
       "    <tr>\n",
       "      <th>2023-03-01</th>\n",
       "      <td>71.540001</td>\n",
       "      <td>72.639999</td>\n",
       "      <td>70.599998</td>\n",
       "      <td>71.440002</td>\n",
       "      <td>71.440002</td>\n",
       "      <td>3626000</td>\n",
       "    </tr>\n",
       "    <tr>\n",
       "      <th>2023-03-02</th>\n",
       "      <td>81.000000</td>\n",
       "      <td>81.550003</td>\n",
       "      <td>76.300003</td>\n",
       "      <td>80.910004</td>\n",
       "      <td>80.910004</td>\n",
       "      <td>13224000</td>\n",
       "    </tr>\n",
       "    <tr>\n",
       "      <th>2023-03-03</th>\n",
       "      <td>81.360001</td>\n",
       "      <td>87.455002</td>\n",
       "      <td>81.091003</td>\n",
       "      <td>85.550003</td>\n",
       "      <td>85.550003</td>\n",
       "      <td>6937700</td>\n",
       "    </tr>\n",
       "    <tr>\n",
       "      <th>2023-03-06</th>\n",
       "      <td>85.129997</td>\n",
       "      <td>86.239998</td>\n",
       "      <td>82.867996</td>\n",
       "      <td>84.150002</td>\n",
       "      <td>84.150002</td>\n",
       "      <td>3257800</td>\n",
       "    </tr>\n",
       "    <tr>\n",
       "      <th>2023-03-07</th>\n",
       "      <td>84.650002</td>\n",
       "      <td>87.879997</td>\n",
       "      <td>84.099998</td>\n",
       "      <td>85.419998</td>\n",
       "      <td>85.419998</td>\n",
       "      <td>2689700</td>\n",
       "    </tr>\n",
       "    <tr>\n",
       "      <th>2023-03-08</th>\n",
       "      <td>85.250000</td>\n",
       "      <td>86.540001</td>\n",
       "      <td>83.879997</td>\n",
       "      <td>85.959999</td>\n",
       "      <td>85.959999</td>\n",
       "      <td>2704200</td>\n",
       "    </tr>\n",
       "    <tr>\n",
       "      <th>2023-03-09</th>\n",
       "      <td>85.550003</td>\n",
       "      <td>87.269997</td>\n",
       "      <td>83.419998</td>\n",
       "      <td>83.650002</td>\n",
       "      <td>83.650002</td>\n",
       "      <td>2605100</td>\n",
       "    </tr>\n",
       "    <tr>\n",
       "      <th>2023-03-10</th>\n",
       "      <td>83.404999</td>\n",
       "      <td>83.404999</td>\n",
       "      <td>79.410004</td>\n",
       "      <td>81.029999</td>\n",
       "      <td>81.029999</td>\n",
       "      <td>2987800</td>\n",
       "    </tr>\n",
       "    <tr>\n",
       "      <th>2023-03-13</th>\n",
       "      <td>78.989998</td>\n",
       "      <td>82.709999</td>\n",
       "      <td>77.510002</td>\n",
       "      <td>79.989998</td>\n",
       "      <td>79.989998</td>\n",
       "      <td>2605300</td>\n",
       "    </tr>\n",
       "    <tr>\n",
       "      <th>2023-03-14</th>\n",
       "      <td>81.739998</td>\n",
       "      <td>82.610001</td>\n",
       "      <td>80.660004</td>\n",
       "      <td>81.809998</td>\n",
       "      <td>81.809998</td>\n",
       "      <td>1541100</td>\n",
       "    </tr>\n",
       "    <tr>\n",
       "      <th>2023-03-15</th>\n",
       "      <td>80.989998</td>\n",
       "      <td>83.449997</td>\n",
       "      <td>80.449997</td>\n",
       "      <td>83.209999</td>\n",
       "      <td>83.209999</td>\n",
       "      <td>2040100</td>\n",
       "    </tr>\n",
       "    <tr>\n",
       "      <th>2023-03-16</th>\n",
       "      <td>83.239998</td>\n",
       "      <td>84.949997</td>\n",
       "      <td>81.110001</td>\n",
       "      <td>84.360001</td>\n",
       "      <td>84.360001</td>\n",
       "      <td>2460700</td>\n",
       "    </tr>\n",
       "    <tr>\n",
       "      <th>2023-03-17</th>\n",
       "      <td>85.120003</td>\n",
       "      <td>85.430000</td>\n",
       "      <td>82.980003</td>\n",
       "      <td>83.830002</td>\n",
       "      <td>83.830002</td>\n",
       "      <td>3018600</td>\n",
       "    </tr>\n",
       "    <tr>\n",
       "      <th>2023-03-20</th>\n",
       "      <td>83.279999</td>\n",
       "      <td>84.480003</td>\n",
       "      <td>82.305000</td>\n",
       "      <td>84.239998</td>\n",
       "      <td>84.239998</td>\n",
       "      <td>1791800</td>\n",
       "    </tr>\n",
       "    <tr>\n",
       "      <th>2023-03-21</th>\n",
       "      <td>84.879997</td>\n",
       "      <td>86.050003</td>\n",
       "      <td>83.430000</td>\n",
       "      <td>84.480003</td>\n",
       "      <td>84.480003</td>\n",
       "      <td>2318100</td>\n",
       "    </tr>\n",
       "    <tr>\n",
       "      <th>2023-03-22</th>\n",
       "      <td>84.110001</td>\n",
       "      <td>85.059998</td>\n",
       "      <td>82.169998</td>\n",
       "      <td>82.290001</td>\n",
       "      <td>82.290001</td>\n",
       "      <td>1960400</td>\n",
       "    </tr>\n",
       "    <tr>\n",
       "      <th>2023-03-23</th>\n",
       "      <td>83.220001</td>\n",
       "      <td>85.235001</td>\n",
       "      <td>82.959999</td>\n",
       "      <td>84.260002</td>\n",
       "      <td>84.260002</td>\n",
       "      <td>1578000</td>\n",
       "    </tr>\n",
       "    <tr>\n",
       "      <th>2023-03-24</th>\n",
       "      <td>83.779999</td>\n",
       "      <td>83.930000</td>\n",
       "      <td>82.059998</td>\n",
       "      <td>82.250000</td>\n",
       "      <td>82.250000</td>\n",
       "      <td>1234900</td>\n",
       "    </tr>\n",
       "    <tr>\n",
       "      <th>2023-03-27</th>\n",
       "      <td>82.300003</td>\n",
       "      <td>83.739998</td>\n",
       "      <td>81.790001</td>\n",
       "      <td>83.330002</td>\n",
       "      <td>83.330002</td>\n",
       "      <td>1790500</td>\n",
       "    </tr>\n",
       "    <tr>\n",
       "      <th>2023-03-28</th>\n",
       "      <td>83.320000</td>\n",
       "      <td>83.680000</td>\n",
       "      <td>81.974998</td>\n",
       "      <td>82.160004</td>\n",
       "      <td>82.160004</td>\n",
       "      <td>1250100</td>\n",
       "    </tr>\n",
       "    <tr>\n",
       "      <th>2023-03-29</th>\n",
       "      <td>83.300003</td>\n",
       "      <td>84.849998</td>\n",
       "      <td>82.846001</td>\n",
       "      <td>84.190002</td>\n",
       "      <td>84.190002</td>\n",
       "      <td>1430500</td>\n",
       "    </tr>\n",
       "    <tr>\n",
       "      <th>2023-03-30</th>\n",
       "      <td>85.230003</td>\n",
       "      <td>85.940002</td>\n",
       "      <td>84.070000</td>\n",
       "      <td>84.339996</td>\n",
       "      <td>84.339996</td>\n",
       "      <td>1179800</td>\n",
       "    </tr>\n",
       "  </tbody>\n",
       "</table>\n",
       "</div>"
      ],
      "text/plain": [
       "                 Open       High        Low      Close  Adj Close    Volume\n",
       "Date                                                                       \n",
       "2023-03-01  71.540001  72.639999  70.599998  71.440002  71.440002   3626000\n",
       "2023-03-02  81.000000  81.550003  76.300003  80.910004  80.910004  13224000\n",
       "2023-03-03  81.360001  87.455002  81.091003  85.550003  85.550003   6937700\n",
       "2023-03-06  85.129997  86.239998  82.867996  84.150002  84.150002   3257800\n",
       "2023-03-07  84.650002  87.879997  84.099998  85.419998  85.419998   2689700\n",
       "2023-03-08  85.250000  86.540001  83.879997  85.959999  85.959999   2704200\n",
       "2023-03-09  85.550003  87.269997  83.419998  83.650002  83.650002   2605100\n",
       "2023-03-10  83.404999  83.404999  79.410004  81.029999  81.029999   2987800\n",
       "2023-03-13  78.989998  82.709999  77.510002  79.989998  79.989998   2605300\n",
       "2023-03-14  81.739998  82.610001  80.660004  81.809998  81.809998   1541100\n",
       "2023-03-15  80.989998  83.449997  80.449997  83.209999  83.209999   2040100\n",
       "2023-03-16  83.239998  84.949997  81.110001  84.360001  84.360001   2460700\n",
       "2023-03-17  85.120003  85.430000  82.980003  83.830002  83.830002   3018600\n",
       "2023-03-20  83.279999  84.480003  82.305000  84.239998  84.239998   1791800\n",
       "2023-03-21  84.879997  86.050003  83.430000  84.480003  84.480003   2318100\n",
       "2023-03-22  84.110001  85.059998  82.169998  82.290001  82.290001   1960400\n",
       "2023-03-23  83.220001  85.235001  82.959999  84.260002  84.260002   1578000\n",
       "2023-03-24  83.779999  83.930000  82.059998  82.250000  82.250000   1234900\n",
       "2023-03-27  82.300003  83.739998  81.790001  83.330002  83.330002   1790500\n",
       "2023-03-28  83.320000  83.680000  81.974998  82.160004  82.160004   1250100\n",
       "2023-03-29  83.300003  84.849998  82.846001  84.190002  84.190002   1430500\n",
       "2023-03-30  85.230003  85.940002  84.070000  84.339996  84.339996   1179800"
      ]
     },
     "execution_count": 54,
     "metadata": {},
     "output_type": "execute_result"
    }
   ],
   "source": [
    "stock"
   ]
  },
  {
   "cell_type": "code",
   "execution_count": 56,
   "id": "9d494bc4",
   "metadata": {},
   "outputs": [
    {
     "data": {
      "image/png": "[encoded data removed]",
      "text/plain": [
       "<Figure size 864x576 with 2 Axes>"
      ]
     },
     "metadata": {
      "needs_background": "light"
     },
     "output_type": "display_data"
    }
   ],
   "source": [
    "close = stock['Close']\n",
    "volume = stock['Volume']\n",
    "\n",
    "fig, (ax1, ax2) = plt.subplots(2, 1, figsize=(12, 8))\n",
    "\n",
    "ax1.plot(close.index, close.values)\n",
    "ax1.set_ylabel(\"Closing Price\", fontsize=12)\n",
    "\n",
    "ax2.bar(volume.index, volume.values.flatten())\n",
    "ax2.set_ylabel(\"Volume\", fontsize=12)\n",
    "\n",
    "plt.show()"
   ]
  },
  {
   "cell_type": "code",
   "execution_count": null,
   "id": "1818b751",
   "metadata": {},
   "outputs": [],
   "source": []
  }
 ],
 "metadata": {
  "kernelspec": {
   "display_name": "Python 3 (ipykernel)",
   "language": "python",
   "name": "python3"
  },
  "language_info": {
   "codemirror_mode": {
    "name": "ipython",
    "version": 3
   },
   "file_extension": ".py",
   "mimetype": "text/x-python",
   "name": "python",
   "nbconvert_exporter": "python",
   "pygments_lexer": "ipython3",
   "version": "3.9.7"
  }
 },
 "nbformat": 4,
 "nbformat_minor": 5
}
