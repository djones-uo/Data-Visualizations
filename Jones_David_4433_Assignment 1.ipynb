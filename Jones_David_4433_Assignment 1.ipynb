{
 "cells": [
  {
   "cell_type": "code",
   "execution_count": 1,
   "id": "0389d0ad",
   "metadata": {},
   "outputs": [],
   "source": [
    "import pandas as pd\n",
    "import numpy as np\n",
    "import math"
   ]
  },
  {
   "cell_type": "markdown",
   "id": "6fc0f61a",
   "metadata": {},
   "source": [
    "### Assignment 1 (due by midnight MST the day prior to Live Session 2)\n",
    "#### Assignment 1, Part 1: \n",
    "Construct a CSV file with the first eight elements of the periodic table. Include columns for name, symbol, and atomic number. Read that into a pandas DataFrame. Inside the program, add a ninth and 10th element, and then add a column with the atomic weights rounded to the nearest integer."
   ]
  },
  {
   "cell_type": "code",
   "execution_count": 7,
   "id": "f1683ae7",
   "metadata": {},
   "outputs": [],
   "source": [
    "#read in the periodic elements csv\n",
    "elements = pd.read_csv(\"Periodic.csv\")"
   ]
  },
  {
   "cell_type": "code",
   "execution_count": 9,
   "id": "137bf521",
   "metadata": {},
   "outputs": [],
   "source": [
    "#add 9th and 10th elements\n",
    "adds = ['Flourine', 'Neon']\n",
    "symbols = ['F', 'Ne']\n",
    "aNum = [9,10]\n",
    "\n",
    "for i in range(2):\n",
    "    elements.loc[len(elements.index)] = [adds[i], symbols[i], aNum[i]]"
   ]
  },
  {
   "cell_type": "code",
   "execution_count": 12,
   "id": "c8d978d8",
   "metadata": {},
   "outputs": [],
   "source": [
    "#add columns of atomic weights\n",
    "aWeight = [1.0078, 4.0026, 6.941, 9.0122, 10.811, 12.011, 14.007, 15.999, 18.998, 20.18]\n",
    "aWround = []\n",
    "\n",
    "for i in aWeight:\n",
    "    temp = round(i)\n",
    "    aWround.append(temp)\n",
    "\n",
    "elements['Atomic Weight'] = aWround"
   ]
  },
  {
   "cell_type": "code",
   "execution_count": 13,
   "id": "b691fcd7",
   "metadata": {},
   "outputs": [
    {
     "data": {
      "text/html": [
       "<div>\n",
       "<style scoped>\n",
       "    .dataframe tbody tr th:only-of-type {\n",
       "        vertical-align: middle;\n",
       "    }\n",
       "\n",
       "    .dataframe tbody tr th {\n",
       "        vertical-align: top;\n",
       "    }\n",
       "\n",
       "    .dataframe thead th {\n",
       "        text-align: right;\n",
       "    }\n",
       "</style>\n",
       "<table border=\"1\" class=\"dataframe\">\n",
       "  <thead>\n",
       "    <tr style=\"text-align: right;\">\n",
       "      <th></th>\n",
       "      <th>Name</th>\n",
       "      <th>Symbol</th>\n",
       "      <th>Atomic Number</th>\n",
       "      <th>Atomic Weight</th>\n",
       "    </tr>\n",
       "  </thead>\n",
       "  <tbody>\n",
       "    <tr>\n",
       "      <th>0</th>\n",
       "      <td>Hydrogen</td>\n",
       "      <td>H</td>\n",
       "      <td>1</td>\n",
       "      <td>1</td>\n",
       "    </tr>\n",
       "    <tr>\n",
       "      <th>1</th>\n",
       "      <td>Helium</td>\n",
       "      <td>He</td>\n",
       "      <td>2</td>\n",
       "      <td>4</td>\n",
       "    </tr>\n",
       "    <tr>\n",
       "      <th>2</th>\n",
       "      <td>Lithium</td>\n",
       "      <td>Li</td>\n",
       "      <td>3</td>\n",
       "      <td>7</td>\n",
       "    </tr>\n",
       "    <tr>\n",
       "      <th>3</th>\n",
       "      <td>Berilium</td>\n",
       "      <td>Be</td>\n",
       "      <td>4</td>\n",
       "      <td>9</td>\n",
       "    </tr>\n",
       "    <tr>\n",
       "      <th>4</th>\n",
       "      <td>Boron</td>\n",
       "      <td>B</td>\n",
       "      <td>5</td>\n",
       "      <td>11</td>\n",
       "    </tr>\n",
       "    <tr>\n",
       "      <th>5</th>\n",
       "      <td>Carbon</td>\n",
       "      <td>C</td>\n",
       "      <td>6</td>\n",
       "      <td>12</td>\n",
       "    </tr>\n",
       "    <tr>\n",
       "      <th>6</th>\n",
       "      <td>Nitrogen</td>\n",
       "      <td>N</td>\n",
       "      <td>7</td>\n",
       "      <td>14</td>\n",
       "    </tr>\n",
       "    <tr>\n",
       "      <th>7</th>\n",
       "      <td>Oxygen</td>\n",
       "      <td>O</td>\n",
       "      <td>8</td>\n",
       "      <td>16</td>\n",
       "    </tr>\n",
       "    <tr>\n",
       "      <th>8</th>\n",
       "      <td>Flourine</td>\n",
       "      <td>F</td>\n",
       "      <td>9</td>\n",
       "      <td>19</td>\n",
       "    </tr>\n",
       "    <tr>\n",
       "      <th>9</th>\n",
       "      <td>Neon</td>\n",
       "      <td>Ne</td>\n",
       "      <td>10</td>\n",
       "      <td>20</td>\n",
       "    </tr>\n",
       "  </tbody>\n",
       "</table>\n",
       "</div>"
      ],
      "text/plain": [
       "       Name Symbol  Atomic Number  Atomic Weight\n",
       "0  Hydrogen      H              1              1\n",
       "1    Helium     He              2              4\n",
       "2   Lithium     Li              3              7\n",
       "3  Berilium     Be              4              9\n",
       "4     Boron      B              5             11\n",
       "5    Carbon      C              6             12\n",
       "6  Nitrogen      N              7             14\n",
       "7    Oxygen      O              8             16\n",
       "8  Flourine      F              9             19\n",
       "9      Neon     Ne             10             20"
      ]
     },
     "execution_count": 13,
     "metadata": {},
     "output_type": "execute_result"
    }
   ],
   "source": [
    "elements"
   ]
  },
  {
   "cell_type": "markdown",
   "id": "e6818e62",
   "metadata": {},
   "source": [
    "#### Assignment 1, Part 2: \n",
    "Make a list of strings for nine Greek letters, for example ‘alpha’. Make that list such that the strings are not in alphabetic order. Make two 9-element numpy arrays of random floating-point numbers with an estimated mean of 10 and a standard deviation of 1.5. Make another array of nine elements ranging from zero to two times pi. Name it ‘angle’. Make another array holding the cosine of that ‘angle’ array. Construct a dictionary from all of the above. Form a DataFrame from that dictionary, and print it out. Sort the DataFrame ascending on the Greek letters, drop two columns of your choice, drop one of the rows, and print that out."
   ]
  },
  {
   "cell_type": "code",
   "execution_count": 48,
   "id": "bcb997b8",
   "metadata": {},
   "outputs": [],
   "source": [
    "#initialize arrays and list\n",
    "\n",
    "greek = ['Delta', 'Sigma', 'Phi', 'Pi', 'Beta', 'Alpha', 'Gamma', 'Theta', 'Chi']\n",
    "n1 = np.random.normal(loc=10, scale=1.5, size=9)\n",
    "n2 = np.random.normal(loc=10, scale=1.5, size=9)\n",
    "angle = np.linspace(0, np.pi, 9)\n",
    "cos = np.cos(angle)"
   ]
  },
  {
   "cell_type": "code",
   "execution_count": 49,
   "id": "ab64d760",
   "metadata": {},
   "outputs": [
    {
     "name": "stdout",
     "output_type": "stream",
     "text": [
      "{'Greek': ['Delta', 'Sigma', 'Phi', 'Pi', 'Beta', 'Alpha', 'Gamma', 'Theta', 'Chi'], 'N1': array([11.30729593, 11.47155765, 11.23136652, 13.55804315, 10.3447145 ,\n",
      "       10.59058051, 11.21485991,  8.95331738, 12.87264397]), 'N2': array([11.03256568,  9.38698914,  9.34493493, 10.62255428, 10.95056221,\n",
      "        7.29527756,  9.3583125 ,  9.91528939, 10.61059442]), 'Angles': array([0.        , 0.39269908, 0.78539816, 1.17809725, 1.57079633,\n",
      "       1.96349541, 2.35619449, 2.74889357, 3.14159265]), 'Cosines': array([ 1.00000000e+00,  9.23879533e-01,  7.07106781e-01,  3.82683432e-01,\n",
      "        6.12323400e-17, -3.82683432e-01, -7.07106781e-01, -9.23879533e-01,\n",
      "       -1.00000000e+00])}\n"
     ]
    }
   ],
   "source": [
    "#create dictionary\n",
    "greekDict = {'Greek' : greek,\n",
    "            'N1' : n1,\n",
    "            'N2' : n2,\n",
    "            'Angles' : angle,\n",
    "            'Cosines' : cos}\n",
    "\n",
    "\n",
    "print(greekDict)"
   ]
  },
  {
   "cell_type": "code",
   "execution_count": 50,
   "id": "4d7d50e2",
   "metadata": {},
   "outputs": [
    {
     "data": {
      "text/html": [
       "<div>\n",
       "<style scoped>\n",
       "    .dataframe tbody tr th:only-of-type {\n",
       "        vertical-align: middle;\n",
       "    }\n",
       "\n",
       "    .dataframe tbody tr th {\n",
       "        vertical-align: top;\n",
       "    }\n",
       "\n",
       "    .dataframe thead th {\n",
       "        text-align: right;\n",
       "    }\n",
       "</style>\n",
       "<table border=\"1\" class=\"dataframe\">\n",
       "  <thead>\n",
       "    <tr style=\"text-align: right;\">\n",
       "      <th></th>\n",
       "      <th>Greek</th>\n",
       "      <th>N1</th>\n",
       "      <th>N2</th>\n",
       "      <th>Angles</th>\n",
       "      <th>Cosines</th>\n",
       "    </tr>\n",
       "  </thead>\n",
       "  <tbody>\n",
       "    <tr>\n",
       "      <th>0</th>\n",
       "      <td>Delta</td>\n",
       "      <td>11.307296</td>\n",
       "      <td>11.032566</td>\n",
       "      <td>0.000000</td>\n",
       "      <td>1.000000e+00</td>\n",
       "    </tr>\n",
       "    <tr>\n",
       "      <th>1</th>\n",
       "      <td>Sigma</td>\n",
       "      <td>11.471558</td>\n",
       "      <td>9.386989</td>\n",
       "      <td>0.392699</td>\n",
       "      <td>9.238795e-01</td>\n",
       "    </tr>\n",
       "    <tr>\n",
       "      <th>2</th>\n",
       "      <td>Phi</td>\n",
       "      <td>11.231367</td>\n",
       "      <td>9.344935</td>\n",
       "      <td>0.785398</td>\n",
       "      <td>7.071068e-01</td>\n",
       "    </tr>\n",
       "    <tr>\n",
       "      <th>3</th>\n",
       "      <td>Pi</td>\n",
       "      <td>13.558043</td>\n",
       "      <td>10.622554</td>\n",
       "      <td>1.178097</td>\n",
       "      <td>3.826834e-01</td>\n",
       "    </tr>\n",
       "    <tr>\n",
       "      <th>4</th>\n",
       "      <td>Beta</td>\n",
       "      <td>10.344715</td>\n",
       "      <td>10.950562</td>\n",
       "      <td>1.570796</td>\n",
       "      <td>6.123234e-17</td>\n",
       "    </tr>\n",
       "    <tr>\n",
       "      <th>5</th>\n",
       "      <td>Alpha</td>\n",
       "      <td>10.590581</td>\n",
       "      <td>7.295278</td>\n",
       "      <td>1.963495</td>\n",
       "      <td>-3.826834e-01</td>\n",
       "    </tr>\n",
       "    <tr>\n",
       "      <th>6</th>\n",
       "      <td>Gamma</td>\n",
       "      <td>11.214860</td>\n",
       "      <td>9.358312</td>\n",
       "      <td>2.356194</td>\n",
       "      <td>-7.071068e-01</td>\n",
       "    </tr>\n",
       "    <tr>\n",
       "      <th>7</th>\n",
       "      <td>Theta</td>\n",
       "      <td>8.953317</td>\n",
       "      <td>9.915289</td>\n",
       "      <td>2.748894</td>\n",
       "      <td>-9.238795e-01</td>\n",
       "    </tr>\n",
       "    <tr>\n",
       "      <th>8</th>\n",
       "      <td>Chi</td>\n",
       "      <td>12.872644</td>\n",
       "      <td>10.610594</td>\n",
       "      <td>3.141593</td>\n",
       "      <td>-1.000000e+00</td>\n",
       "    </tr>\n",
       "  </tbody>\n",
       "</table>\n",
       "</div>"
      ],
      "text/plain": [
       "   Greek         N1         N2    Angles       Cosines\n",
       "0  Delta  11.307296  11.032566  0.000000  1.000000e+00\n",
       "1  Sigma  11.471558   9.386989  0.392699  9.238795e-01\n",
       "2    Phi  11.231367   9.344935  0.785398  7.071068e-01\n",
       "3     Pi  13.558043  10.622554  1.178097  3.826834e-01\n",
       "4   Beta  10.344715  10.950562  1.570796  6.123234e-17\n",
       "5  Alpha  10.590581   7.295278  1.963495 -3.826834e-01\n",
       "6  Gamma  11.214860   9.358312  2.356194 -7.071068e-01\n",
       "7  Theta   8.953317   9.915289  2.748894 -9.238795e-01\n",
       "8    Chi  12.872644  10.610594  3.141593 -1.000000e+00"
      ]
     },
     "execution_count": 50,
     "metadata": {},
     "output_type": "execute_result"
    }
   ],
   "source": [
    "#create dataframe\n",
    "greekDF = pd.DataFrame(greekDict)\n",
    "greekDF"
   ]
  },
  {
   "cell_type": "code",
   "execution_count": 51,
   "id": "4cae047c",
   "metadata": {},
   "outputs": [
    {
     "data": {
      "text/html": [
       "<div>\n",
       "<style scoped>\n",
       "    .dataframe tbody tr th:only-of-type {\n",
       "        vertical-align: middle;\n",
       "    }\n",
       "\n",
       "    .dataframe tbody tr th {\n",
       "        vertical-align: top;\n",
       "    }\n",
       "\n",
       "    .dataframe thead th {\n",
       "        text-align: right;\n",
       "    }\n",
       "</style>\n",
       "<table border=\"1\" class=\"dataframe\">\n",
       "  <thead>\n",
       "    <tr style=\"text-align: right;\">\n",
       "      <th></th>\n",
       "      <th>Greek</th>\n",
       "      <th>N1</th>\n",
       "      <th>Angles</th>\n",
       "    </tr>\n",
       "  </thead>\n",
       "  <tbody>\n",
       "    <tr>\n",
       "      <th>5</th>\n",
       "      <td>Alpha</td>\n",
       "      <td>10.590581</td>\n",
       "      <td>1.963495</td>\n",
       "    </tr>\n",
       "    <tr>\n",
       "      <th>4</th>\n",
       "      <td>Beta</td>\n",
       "      <td>10.344715</td>\n",
       "      <td>1.570796</td>\n",
       "    </tr>\n",
       "    <tr>\n",
       "      <th>0</th>\n",
       "      <td>Delta</td>\n",
       "      <td>11.307296</td>\n",
       "      <td>0.000000</td>\n",
       "    </tr>\n",
       "    <tr>\n",
       "      <th>2</th>\n",
       "      <td>Phi</td>\n",
       "      <td>11.231367</td>\n",
       "      <td>0.785398</td>\n",
       "    </tr>\n",
       "    <tr>\n",
       "      <th>3</th>\n",
       "      <td>Pi</td>\n",
       "      <td>13.558043</td>\n",
       "      <td>1.178097</td>\n",
       "    </tr>\n",
       "    <tr>\n",
       "      <th>1</th>\n",
       "      <td>Sigma</td>\n",
       "      <td>11.471558</td>\n",
       "      <td>0.392699</td>\n",
       "    </tr>\n",
       "    <tr>\n",
       "      <th>7</th>\n",
       "      <td>Theta</td>\n",
       "      <td>8.953317</td>\n",
       "      <td>2.748894</td>\n",
       "    </tr>\n",
       "  </tbody>\n",
       "</table>\n",
       "</div>"
      ],
      "text/plain": [
       "   Greek         N1    Angles\n",
       "5  Alpha  10.590581  1.963495\n",
       "4   Beta  10.344715  1.570796\n",
       "0  Delta  11.307296  0.000000\n",
       "2    Phi  11.231367  0.785398\n",
       "3     Pi  13.558043  1.178097\n",
       "1  Sigma  11.471558  0.392699\n",
       "7  Theta   8.953317  2.748894"
      ]
     },
     "execution_count": 51,
     "metadata": {},
     "output_type": "execute_result"
    }
   ],
   "source": [
    "#sort datarame and drop 2 columns and 2 rows\n",
    "greekDF.sort_values(by= ['Greek'], ascending=True, inplace= True)\n",
    "greekDF.drop(['N2', 'Cosines'], axis=1, inplace=True)\n",
    "greekDF.drop([6, 8], inplace = True)\n",
    "\n",
    "greekDF"
   ]
  },
  {
   "cell_type": "markdown",
   "id": "d4e7cff5",
   "metadata": {},
   "source": [
    "#### Assignment 1, Part 3: \n",
    "Write a program in Python to create and print out the first 12 Fibonacci numbers. Then iterate over the last five numbers to build another list with the ratio of each number to its predecessor. What do you observe about this latter list?"
   ]
  },
  {
   "cell_type": "code",
   "execution_count": 53,
   "id": "573825a7",
   "metadata": {},
   "outputs": [
    {
     "name": "stdout",
     "output_type": "stream",
     "text": [
      "0 1 1 2 3 5 8 13 21 34 55 89 "
     ]
    }
   ],
   "source": [
    "# display first 12 fibonacci numbers\n",
    "def fibNums(num):\n",
    "    if num == 0:\n",
    "        return 0\n",
    "    elif num == 1:\n",
    "        return 1\n",
    "    else:\n",
    "        # printing fibonacci numbers\n",
    "        return fibNums(num-2)+fibNums(num-1)\n",
    "  \n",
    "  \n",
    "for i in range(0, 12):\n",
    "    print(fibNums(i), end = \" \")"
   ]
  },
  {
   "cell_type": "code",
   "execution_count": 55,
   "id": "41704170",
   "metadata": {},
   "outputs": [
    {
     "name": "stdout",
     "output_type": "stream",
     "text": [
      "[1.625, 1.6153846153846154, 1.619047619047619, 1.6176470588235294, 1.6181818181818182]\n"
     ]
    }
   ],
   "source": [
    "#find ratio of last 5 numbers to their predecessor\n",
    "\n",
    "lastSix = [8, 13, 21, 34, 55, 89]\n",
    "ratio = []\n",
    "\n",
    "for i in range(1, len(lastSix)):\n",
    "    num1 = lastSix[i-1]\n",
    "    num2 = lastSix[i]\n",
    "    valRat = num2/num1\n",
    "    ratio.append(valRat)\n",
    "    \n",
    "print(ratio)"
   ]
  },
  {
   "cell_type": "markdown",
   "id": "240b80a4",
   "metadata": {},
   "source": [
    "##### Observation:\n",
    "All of the values are very similar to each other, and they become more similar to each other when you compare values farther along in the sequence"
   ]
  },
  {
   "cell_type": "markdown",
   "id": "6076ce9a",
   "metadata": {},
   "source": [
    "#### Assignment 1, Part 4: \n",
    "Provide a function that converts temperature in Kelvin to Rankine. Make a list of five Kelvin temperatures, and print out their values in Rankine. Repeat using a lambda function."
   ]
  },
  {
   "cell_type": "code",
   "execution_count": 56,
   "id": "27b1d5b9",
   "metadata": {},
   "outputs": [],
   "source": [
    "#Kelvine to Rankine function\n",
    "\n",
    "def KtoR(n):\n",
    "    return n*1.8"
   ]
  },
  {
   "cell_type": "code",
   "execution_count": 58,
   "id": "908c282b",
   "metadata": {},
   "outputs": [
    {
     "name": "stdout",
     "output_type": "stream",
     "text": [
      "1.8\n",
      "3.6\n",
      "5.4\n",
      "7.2\n",
      "9.0\n"
     ]
    }
   ],
   "source": [
    "#print out Rankine values for 5 Kelvin Temperatures using the previously defined function\n",
    "\n",
    "kTemps = [1, 2, 3, 4, 5]\n",
    "\n",
    "for i in kTemps:\n",
    "    print(KtoR(i))"
   ]
  },
  {
   "cell_type": "code",
   "execution_count": 59,
   "id": "c383e364",
   "metadata": {},
   "outputs": [
    {
     "name": "stdout",
     "output_type": "stream",
     "text": [
      "1.8\n",
      "3.6\n",
      "5.4\n",
      "7.2\n",
      "9.0\n"
     ]
    }
   ],
   "source": [
    "#print out Rankine values for 5 Kelvin Temperatures using a lambda function\n",
    "\n",
    "lambdaK = lambda k: k*1.8\n",
    "\n",
    "for i in kTemps:\n",
    "    print(lambdaK(i))"
   ]
  },
  {
   "cell_type": "code",
   "execution_count": null,
   "id": "4c4bb001",
   "metadata": {},
   "outputs": [],
   "source": []
  }
 ],
 "metadata": {
  "kernelspec": {
   "display_name": "Python 3 (ipykernel)",
   "language": "python",
   "name": "python3"
  },
  "language_info": {
   "codemirror_mode": {
    "name": "ipython",
    "version": 3
   },
   "file_extension": ".py",
   "mimetype": "text/x-python",
   "name": "python",
   "nbconvert_exporter": "python",
   "pygments_lexer": "ipython3",
   "version": "3.9.7"
  }
 },
 "nbformat": 4,
 "nbformat_minor": 5
}
